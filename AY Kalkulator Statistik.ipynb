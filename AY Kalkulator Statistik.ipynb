{
 "cells": [
  {
   "cell_type": "code",
   "execution_count": null,
   "id": "88cab312-1190-4d0f-9389-47b14c417a68",
   "metadata": {},
   "outputs": [],
   "source": [
    "# User memasukkan nilai\n",
    "angka = input(\"Masukkan angka yang dipisahkan dengan koma: \")\n",
    "\n",
    "# konver input ke dalam daftar float\n",
    "angka_list = [float(num) for num in angka.split(',')]\n",
    "\n",
    "# menghitung total, rata2, maximum, and minimum dari angka\n",
    "total = sum(angka_list)\n",
    "average = total / len(angka_list)\n",
    "maximum = max(angka_list)\n",
    "minimum = min(angka_list)\n",
    "range_angka = maximum - minimum\n",
    "sorted_angka = sorted(angka_list)\n",
    "\n",
    "# mengitung media\n",
    "if len(angka_list) % 2 == 0:\n",
    "    median = (sorted_angka[int(len(angka_list)/2)] + sorted_angka[int(len(angka_list)/2)-1])/2\n",
    "else:\n",
    "    median = sorted_angka[int(len(angka_list)/2)]\n",
    "\n",
    "# menghitung varians dan standar deviasi angka\n",
    "variance = sum((x - average) ** 2 for x in angka_list) / len(angka_list)\n",
    "standard_deviation = variance ** 0.5\n",
    "\n",
    "# cetak hasil\n",
    "print(\"Sum: \", total)\n",
    "print(\"Average: \", average)\n",
    "print(\"Maximum: \", maximum)\n",
    "print(\"Minimum: \", minimum)\n",
    "print(\"Range: \", range_angka)\n",
    "print(\"Median: \", median)\n",
    "print(\"Variance: \", variance)\n",
    "print(\"Standard Deviation: \", standard_deviation)"
   ]
  }
 ],
 "metadata": {
  "kernelspec": {
   "display_name": "Python 3 (ipykernel)",
   "language": "python",
   "name": "python3"
  },
  "language_info": {
   "codemirror_mode": {
    "name": "ipython",
    "version": 3
   },
   "file_extension": ".py",
   "mimetype": "text/x-python",
   "name": "python",
   "nbconvert_exporter": "python",
   "pygments_lexer": "ipython3",
   "version": "3.9.15"
  }
 },
 "nbformat": 4,
 "nbformat_minor": 5
}
